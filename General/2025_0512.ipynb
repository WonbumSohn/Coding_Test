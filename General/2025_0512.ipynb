{
 "cells": [
  {
   "cell_type": "markdown",
   "metadata": {},
   "source": [
    "### 35. Search Insert Position"
   ]
  },
  {
   "cell_type": "markdown",
   "metadata": {},
   "source": [
    "Given a sorted array of distinct integers and a target value, return the index if the target is found. If not, return the index where it would be if it were inserted in order.\n",
    "\n",
    "You must write an algorithm with O(log n) runtime complexity."
   ]
  },
  {
   "cell_type": "markdown",
   "metadata": {},
   "source": [
    "- Example 1:\n",
    "    - Input: nums = [1,3,5,6], target = 5\n",
    "    - Output: 2\n",
    "\n",
    "- Example 2:\n",
    "    - Input: nums = [1,3,5,6], target = 2\n",
    "    - Output: 1\n",
    "\n",
    "- Example 3:\n",
    "    - Input: nums = [1,3,5,6], target = 7\n",
    "    - Output: 4\n",
    " \n"
   ]
  },
  {
   "cell_type": "markdown",
   "metadata": {},
   "source": [
    "Constraints:\n",
    "- 1 <= nums.length <= 10^4\n",
    "- -10^4 <= nums[i] <= 10^4\n",
    "- nums contains distinct values sorted in ascending order.\n",
    "- -10^4 <= target <= 10^4"
   ]
  },
  {
   "cell_type": "markdown",
   "metadata": {},
   "source": [
    "- nums: [1,3,5,6]\n",
    "- target\n",
    "    - 5\n",
    "    - 2\n",
    "    - 7"
   ]
  },
  {
   "cell_type": "code",
   "execution_count": 5,
   "metadata": {},
   "outputs": [],
   "source": [
    "from typing import List\n",
    "class Solution:\n",
    "    def searchInsert(self, nums: List[int], target: int) -> int:\n",
    "        left_idx, right_idx = 0, len(nums) - 1\n",
    "        while left_idx <= right_idx:\n",
    "            center_idx = left_idx + ((right_idx - left_idx) // 2)\n",
    "            if nums[center_idx] == target:\n",
    "                return center_idx\n",
    "            elif target < nums[center_idx]:\n",
    "                right_idx = center_idx - 1\n",
    "            else:\n",
    "                left_idx = center_idx + 1\n",
    "\n",
    "        return left_idx\n",
    "\n",
    "\n",
    "        \n",
    "        "
   ]
  },
  {
   "cell_type": "code",
   "execution_count": 6,
   "metadata": {},
   "outputs": [],
   "source": [
    "binary_search = Solution()"
   ]
  },
  {
   "cell_type": "code",
   "execution_count": 7,
   "metadata": {},
   "outputs": [
    {
     "name": "stdout",
     "output_type": "stream",
     "text": [
      "2\n"
     ]
    }
   ],
   "source": [
    "nums = [1, 3, 5, 6]\n",
    "target = 5\n",
    "rslt = binary_search.searchInsert(nums, target)\n",
    "print(rslt)"
   ]
  },
  {
   "cell_type": "code",
   "execution_count": 8,
   "metadata": {},
   "outputs": [
    {
     "name": "stdout",
     "output_type": "stream",
     "text": [
      "1\n"
     ]
    }
   ],
   "source": [
    "nums = [1, 3, 5, 6]\n",
    "target = 2\n",
    "rslt = binary_search.searchInsert(nums, target)\n",
    "print(rslt)"
   ]
  },
  {
   "cell_type": "code",
   "execution_count": 9,
   "metadata": {},
   "outputs": [
    {
     "name": "stdout",
     "output_type": "stream",
     "text": [
      "4\n"
     ]
    }
   ],
   "source": [
    "nums = [1, 3, 5, 6]\n",
    "target = 7\n",
    "rslt = binary_search.searchInsert(nums, target)\n",
    "print(rslt)"
   ]
  },
  {
   "cell_type": "code",
   "execution_count": null,
   "metadata": {},
   "outputs": [],
   "source": []
  }
 ],
 "metadata": {
  "kernelspec": {
   "display_name": "Coding_Test",
   "language": "python",
   "name": "coding-test-py3.12"
  },
  "language_info": {
   "codemirror_mode": {
    "name": "ipython",
    "version": 3
   },
   "file_extension": ".py",
   "mimetype": "text/x-python",
   "name": "python",
   "nbconvert_exporter": "python",
   "pygments_lexer": "ipython3",
   "version": "3.12.7"
  }
 },
 "nbformat": 4,
 "nbformat_minor": 2
}
