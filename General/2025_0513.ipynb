{
 "cells": [
  {
   "cell_type": "markdown",
   "metadata": {},
   "source": [
    "##  69. Sqrt(x)"
   ]
  },
  {
   "cell_type": "markdown",
   "metadata": {},
   "source": [
    "### From https://leetcode.com/"
   ]
  },
  {
   "cell_type": "markdown",
   "metadata": {},
   "source": [
    "Given a non-negative integer x, return the square root of x rounded down to the nearest integer. The returned integer should be non-negative as well.\n",
    "\n",
    "You must not use any built-in exponent function or operator.\n",
    "\n",
    "For example, do not use pow(x, 0.5) in c++ or x ** 0.5 in python."
   ]
  },
  {
   "cell_type": "markdown",
   "metadata": {},
   "source": [
    "- Example 1\n",
    "    - Input: x = 4\n",
    "    - Output: 2\n",
    "    - Explanation: The square root of 4 is 2, so we return 2.\n",
    "\n",
    "- Example 2\n",
    "    - Input: x = 8\n",
    "    - Output: 2\n",
    "    - Explanation: The square root of 8 is 2.82842..., and since we round it down to the nearest integer, 2 is returned."
   ]
  },
  {
   "cell_type": "markdown",
   "metadata": {},
   "source": [
    "Constraints: 0 <= x <= 2^31 - 1"
   ]
  },
  {
   "cell_type": "markdown",
   "metadata": {},
   "source": [
    "- Case 1: x = 4\n",
    "- Case 2: x = 8"
   ]
  },
  {
   "cell_type": "code",
   "execution_count": 1,
   "metadata": {},
   "outputs": [],
   "source": [
    "class Solution:\n",
    "    def mySqrt(self, x: int) -> int:\n",
    "        pass"
   ]
  },
  {
   "cell_type": "code",
   "execution_count": 2,
   "metadata": {},
   "outputs": [],
   "source": [
    "class Solution:\n",
    "    def mySqrt(self, x: int) -> int:\n",
    "        if x < 2:\n",
    "            return x\n",
    "        \n",
    "        left_idx, right_idx = 2, x // 2\n",
    "        \n",
    "        while left_idx <= right_idx:\n",
    "            center_idx = left_idx + (right_idx - left_idx) // 2\n",
    "            if center_idx * center_idx < x:\n",
    "                left_idx = center_idx + 1\n",
    "            elif x < center_idx * center_idx:\n",
    "                right_idx = center_idx - 1\n",
    "            else:\n",
    "                return center_idx\n",
    "        return right_idx\n",
    "        "
   ]
  },
  {
   "cell_type": "code",
   "execution_count": 3,
   "metadata": {},
   "outputs": [],
   "source": [
    "my_sqrt = Solution()"
   ]
  },
  {
   "cell_type": "code",
   "execution_count": 4,
   "metadata": {},
   "outputs": [
    {
     "name": "stdout",
     "output_type": "stream",
     "text": [
      "2\n"
     ]
    }
   ],
   "source": [
    "x = 4\n",
    "rlst = my_sqrt.mySqrt(x)\n",
    "print(rlst)"
   ]
  },
  {
   "cell_type": "code",
   "execution_count": 5,
   "metadata": {},
   "outputs": [
    {
     "name": "stdout",
     "output_type": "stream",
     "text": [
      "2\n"
     ]
    }
   ],
   "source": [
    "x = 8\n",
    "rlst = my_sqrt.mySqrt(x)\n",
    "print(rlst)"
   ]
  },
  {
   "cell_type": "markdown",
   "metadata": {},
   "source": [
    "Approach 4: Newton's Method\n",
    "Intuition\n",
    "\n",
    "One of the best and most widely used methods to compute sqrt is Newton's Method. Here we'll implement the version without the seed trimming to keep things simple. However, seed trimming is a bit of math and a lot of fun, so here is a link if you'd like to dive in.\n",
    "\n",
    "Let's keep the mathematical proofs outside of the article and just use the textbook fact that the set\n",
    "\n",
    "\n",
    "Then things are straightforward: define that the error should be less than 1 and proceed iteratively.\n",
    "\n",
    "Implementation\n",
    "class Solution:\n",
    "    def mySqrt(self, x: int) -> int:\n",
    "        if x < 2:\n",
    "            return x\n",
    "\n",
    "        x0 = x\n",
    "        x1 = (x0 + x / x0) / 2\n",
    "        while abs(x0 - x1) >= 1:\n",
    "            x0 = x1\n",
    "            x1 = (x0 + float(x) / x0) / 2\n",
    "\n",
    "        return int(x1)\n",
    "\n",
    "Complexity Analysis\n",
    "\n",
    "Time complexity: O(logN) since the set converges quadratically.\n",
    "\n",
    "Space complexity: O(1)."
   ]
  }
 ],
 "metadata": {
  "kernelspec": {
   "display_name": "Coding_Test",
   "language": "python",
   "name": "coding-test-py3.12"
  },
  "language_info": {
   "codemirror_mode": {
    "name": "ipython",
    "version": 3
   },
   "file_extension": ".py",
   "mimetype": "text/x-python",
   "name": "python",
   "nbconvert_exporter": "python",
   "pygments_lexer": "ipython3",
   "version": "3.12.7"
  }
 },
 "nbformat": 4,
 "nbformat_minor": 2
}
